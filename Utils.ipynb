{
 "cells": [
  {
   "cell_type": "markdown",
   "metadata": {},
   "source": [
    "**Import Libraries**"
   ]
  },
  {
   "cell_type": "code",
   "execution_count": null,
   "metadata": {},
   "outputs": [],
   "source": [
    "import numpy as np\n",
    "import pandas as pd\n",
    "import urllib\n",
    "import pickle\n",
    "from matplotlib import pyplot as plt\n",
    "%matplotlib inline\n",
    "import cv2\n",
    "import warnings\n",
    "warnings.filterwarnings('ignore')\n",
    "import config as config"
   ]
  },
  {
   "cell_type": "markdown",
   "metadata": {},
   "source": [
    "## Functions"
   ]
  },
  {
   "cell_type": "markdown",
   "metadata": {},
   "source": [
    "**Telegram and create data**"
   ]
  },
  {
   "cell_type": "code",
   "execution_count": null,
   "metadata": {},
   "outputs": [],
   "source": [
    "def image_url_to_numpy_array_urllib(url, format=None):\n",
    "    \"\"\"\n",
    "    :param url: url of a photo\n",
    "    :param format: the format of the photo\n",
    "    :return: return array of the resized image, \n",
    "    if the image ratio is too rectangular it return a message.\n",
    "    \"\"\"\n",
    "\n",
    "    ## read as HTTPResponse \n",
    "    resp = urllib.request.urlopen(url)\n",
    "    ## read as 1D bytearray\n",
    "    resp_byte_array = resp.read()\n",
    "    ## returns a bytearray object which is a mutable sequence of integers in\n",
    "    # the range 0 <=x< 256\n",
    "    mutable_byte_array = bytearray(resp_byte_array)\n",
    "    ## read as unsigned integer 1D numpy array\n",
    "    image = np.asarray(mutable_byte_array, dtype = \"uint8\")\n",
    "    ## To decode the 1D image array into a 2D format with RGB color components\n",
    "    # we make a call to cv2.imdecode\n",
    "    image = cv2.imdecode(image, cv2.IMREAD_COLOR)\n",
    "    # filter images with too rectangular ratio\n",
    "    if (image.shape[0] > (2 * image.shape[1])) or (image.shape[1] > (2 * image.shape[0])):\n",
    "        return 'Image ratio is too rectangular'\n",
    "    image = cv2.resize(image, (224,224))\n",
    "    if format == 'BGR':\n",
    "        ## return BGR format array\n",
    "        return image\n",
    "    ## cv2.imdecode converted array into BGR format, convert it to RGB format\n",
    "    image = cv2.cvtColor(image, cv2.COLOR_BGR2RGB)\n",
    "    # return the image\n",
    "    return image"
   ]
  },
  {
   "cell_type": "markdown",
   "metadata": {},
   "source": [
    "**Train models**"
   ]
  },
  {
   "cell_type": "code",
   "execution_count": null,
   "metadata": {},
   "outputs": [],
   "source": [
    "def load_data():\n",
    "    \"\"\"\n",
    "    :return: X - an array that includes all the images.\n",
    "             y - an array that includes a binary vector of the 10 most common keywords\n",
    "                 for each image. \n",
    "    \"\"\"\n",
    "    # Upload the files\n",
    "    X = pd.read_pickle(f'X1.pkl')\n",
    "    y = pd.read_pickle(f'y1.pkl')\n",
    "\n",
    "    for i in range(1,13):\n",
    "        tmp_X = pd.read_pickle(f'X{i + 1}.pkl')\n",
    "        tmp_y = pd.read_pickle(f'y{i + 1}.pkl')\n",
    "        X = np.concatenate((X, tmp_X), axis = 0)\n",
    "        y = y.append(tmp_y, ignore_index = True)\n",
    "\n",
    "    X = np.stack(X, axis = 0)\n",
    "\n",
    "    print('X shape', X.shape, '\\ny shape', y.shape)\n",
    "    return X, y"
   ]
  },
  {
   "cell_type": "code",
   "execution_count": null,
   "metadata": {},
   "outputs": [],
   "source": [
    "def plot_over_epoches(history):\n",
    "    \"\"\"\n",
    "    :param history: the model history after training.\n",
    "    The function plot accuracy over epoches and loss over epoches, \n",
    "    both for training and validation sets.\n",
    "    \"\"\"\n",
    "\n",
    "    fig, ax = plt.subplots(1, 1, figsize=(7, 4))\n",
    "    ax.plot(history.history['accuracy'], color='salmon', label=\"Training accuracy\")\n",
    "    ax.plot(history.history['val_accuracy'], color='purple', label=\"validation accuracy\")\n",
    "    ax.set_title(\"Accuracy over epoches\")\n",
    "    ax.grid(alpha=0.2)\n",
    "    legend = ax.legend(loc='best', shadow=True)\n",
    "    plt.tight_layout()\n",
    "    plt.show()\n",
    "    \n",
    "    fig, ax = plt.subplots(1, 1, figsize=(7, 4))\n",
    "    ax.plot(history.history['loss'], color='salmon', label=\"Training loss\")\n",
    "    ax.plot(history.history['val_loss'], color='purple', label=\"validation loss\")\n",
    "    ax.set_title(\"Loss over epoches\")\n",
    "    ax.grid(alpha=0.2)\n",
    "    legend = ax.legend(loc='best', shadow=True)\n",
    "    plt.tight_layout()\n",
    "    plt.show()"
   ]
  },
  {
   "cell_type": "code",
   "execution_count": null,
   "metadata": {},
   "outputs": [],
   "source": [
    "def pic(X, y_pred, col_dict): \n",
    "    \"\"\"\n",
    "    :param X: an array of the image.\n",
    "    :param y_pred: the predicted keywords for the image\n",
    "    :param col_dict: dictionary of the keywords\n",
    "    The function plot the image with the predicted keywords and the \n",
    "    confidence of the keyword.\n",
    "    \"\"\"\n",
    "    \n",
    "    print('-------------------------------------------')\n",
    "    for i in range(10):\n",
    "        confidence = (round(y_pred[i], 4) * 100)\n",
    "        if confidence > 20:\n",
    "            print(f'{col_dict[i]} - {confidence}%')\n",
    "    plt.figure(figsize = (6,6))\n",
    "    plt.imshow(X)\n",
    "    plt.axis('off')\n",
    "    plt.show()\n",
    "    print('-------------------------------------------', end='\\n\\n\\n')"
   ]
  }
 ],
 "metadata": {
  "kernelspec": {
   "display_name": "Python 3",
   "language": "python",
   "name": "python3"
  },
  "language_info": {
   "codemirror_mode": {
    "name": "ipython",
    "version": 3
   },
   "file_extension": ".py",
   "mimetype": "text/x-python",
   "name": "python",
   "nbconvert_exporter": "python",
   "pygments_lexer": "ipython3",
   "version": "3.7.6"
  },
  "nbTranslate": {
   "displayLangs": [
    "*"
   ],
   "hotkey": "alt-t",
   "langInMainMenu": true,
   "sourceLang": "en",
   "targetLang": "fr",
   "useGoogleTranslate": true
  }
 },
 "nbformat": 4,
 "nbformat_minor": 4
}
