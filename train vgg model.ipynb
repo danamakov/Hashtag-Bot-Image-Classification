{
 "cells": [
  {
   "cell_type": "markdown",
   "metadata": {},
   "source": [
    "**Import Libraries**"
   ]
  },
  {
   "cell_type": "code",
   "execution_count": null,
   "metadata": {
    "executionInfo": {
     "elapsed": 3465,
     "status": "ok",
     "timestamp": 1601572263558,
     "user": {
      "displayName": "dana makov",
      "photoUrl": "",
      "userId": "00906613210296598824"
     },
     "user_tz": -180
    },
    "id": "BT2eSgZuxQdA"
   },
   "outputs": [],
   "source": [
    "import os\n",
    "import cv2\n",
    "from matplotlib import pyplot as plt\n",
    "%matplotlib inline\n",
    "import pandas as pd\n",
    "import numpy as np\n",
    "import pickle\n",
    "from sklearn.model_selection import train_test_split\n",
    "from tensorflow.keras.preprocessing.image import ImageDataGenerator\n",
    "from tensorflow.keras.callbacks import EarlyStopping\n",
    "from tensorflow.keras.models import load_model\n",
    "import warnings\n",
    "warnings.filterwarnings('ignore')\n",
    "import config as config\n",
    "%run utils.ipynb"
   ]
  },
  {
   "cell_type": "markdown",
   "metadata": {},
   "source": [
    "**Connect to Drive**"
   ]
  },
  {
   "cell_type": "markdown",
   "metadata": {},
   "source": [
    "Uncomment if using Google Colab"
   ]
  },
  {
   "cell_type": "code",
   "execution_count": null,
   "metadata": {},
   "outputs": [],
   "source": [
    "# from google.colab import drive\n",
    "# drive.mount('/content/drive/')\n",
    "# os.chdir(config.PATH)"
   ]
  },
  {
   "cell_type": "markdown",
   "metadata": {},
   "source": [
    "**Load data**"
   ]
  },
  {
   "cell_type": "code",
   "execution_count": null,
   "metadata": {
    "executionInfo": {
     "elapsed": 67649,
     "status": "ok",
     "timestamp": 1601572327801,
     "user": {
      "displayName": "dana makov",
      "photoUrl": "",
      "userId": "00906613210296598824"
     },
     "user_tz": -180
    },
    "id": "861-wpFexQdG"
   },
   "outputs": [],
   "source": [
    "X, y = load_data()"
   ]
  },
  {
   "cell_type": "markdown",
   "metadata": {
    "id": "L7UFz7rgxQdw"
   },
   "source": [
    "**Split data**"
   ]
  },
  {
   "cell_type": "code",
   "execution_count": null,
   "metadata": {
    "executionInfo": {
     "elapsed": 70530,
     "status": "ok",
     "timestamp": 1601572330707,
     "user": {
      "displayName": "dana makov",
      "photoUrl": "",
      "userId": "00906613210296598824"
     },
     "user_tz": -180
    },
    "id": "Tog9YZOExQd0"
   },
   "outputs": [],
   "source": [
    "### Split the data to train, validation and test sets\n",
    "X_train, X_test, y_train, y_test = train_test_split(X, y, \n",
    "                                                    test_size = 0.20, \n",
    "                                                    random_state = 42)"
   ]
  },
  {
   "cell_type": "code",
   "execution_count": null,
   "metadata": {
    "executionInfo": {
     "elapsed": 72306,
     "status": "ok",
     "timestamp": 1601572332492,
     "user": {
      "displayName": "dana makov",
      "photoUrl": "",
      "userId": "00906613210296598824"
     },
     "user_tz": -180
    },
    "id": "EKJBtFkTy2bz"
   },
   "outputs": [],
   "source": [
    "X_train, X_val, y_train, y_val = train_test_split(X_train, y_train, \n",
    "                                                    test_size = 0.10, \n",
    "                                                    random_state = 42)"
   ]
  },
  {
   "cell_type": "code",
   "execution_count": null,
   "metadata": {
    "colab": {
     "base_uri": "https://localhost:8080/",
     "height": 119
    },
    "executionInfo": {
     "elapsed": 72291,
     "status": "ok",
     "timestamp": 1601572332493,
     "user": {
      "displayName": "dana makov",
      "photoUrl": "",
      "userId": "00906613210296598824"
     },
     "user_tz": -180
    },
    "id": "bAiqCriHxQd8",
    "outputId": "b3ba1147-95c0-40ea-9de0-504d653f1db1"
   },
   "outputs": [],
   "source": [
    "print(\"train set:\\n\",(X_train.shape, y_train.shape))\n",
    "print(\"validation set:\\n\",(X_val.shape, y_val.shape))\n",
    "print(\"test set:\\n\",(X_test.shape, y_test.shape))"
   ]
  },
  {
   "cell_type": "markdown",
   "metadata": {},
   "source": [
    "**Load the model**"
   ]
  },
  {
   "cell_type": "code",
   "execution_count": null,
   "metadata": {
    "executionInfo": {
     "elapsed": 38552,
     "status": "ok",
     "timestamp": 1601572298681,
     "user": {
      "displayName": "dana makov",
      "photoUrl": "",
      "userId": "00906613210296598824"
     },
     "user_tz": -180
    },
    "id": "orXWhMzndFfY"
   },
   "outputs": [],
   "source": [
    "model = load_model('vgg_model.h5')\n",
    "model.summary()"
   ]
  },
  {
   "cell_type": "markdown",
   "metadata": {},
   "source": [
    "**Train the model**"
   ]
  },
  {
   "cell_type": "code",
   "execution_count": null,
   "metadata": {
    "executionInfo": {
     "elapsed": 72285,
     "status": "ok",
     "timestamp": 1601572332494,
     "user": {
      "displayName": "dana makov",
      "photoUrl": "",
      "userId": "00906613210296598824"
     },
     "user_tz": -180
    },
    "id": "lGBFLHchAnXf"
   },
   "outputs": [],
   "source": [
    "earlystop = EarlyStopping(monitor = \"val_loss\", patience = 3, mode = 'auto')"
   ]
  },
  {
   "cell_type": "code",
   "execution_count": null,
   "metadata": {
    "colab": {
     "base_uri": "https://localhost:8080/",
     "height": 238
    },
    "executionInfo": {
     "elapsed": 304583,
     "status": "ok",
     "timestamp": 1601572564808,
     "user": {
      "displayName": "dana makov",
      "photoUrl": "",
      "userId": "00906613210296598824"
     },
     "user_tz": -180
    },
    "id": "kmUk_8A4xQeV",
    "outputId": "f511c084-05b4-458f-aa30-6e6d4a47cf75"
   },
   "outputs": [],
   "source": [
    "history = model.fit(X_train, y_train,\n",
    "                    epochs = 100,\n",
    "                    batch_size = 32,\n",
    "                    validation_data = (X_val, y_val),\n",
    "                    callbacks = [earlystop])"
   ]
  },
  {
   "cell_type": "code",
   "execution_count": null,
   "metadata": {
    "colab": {
     "base_uri": "https://localhost:8080/",
     "height": 34
    },
    "executionInfo": {
     "elapsed": 304836,
     "status": "ok",
     "timestamp": 1601572565074,
     "user": {
      "displayName": "dana makov",
      "photoUrl": "",
      "userId": "00906613210296598824"
     },
     "user_tz": -180
    },
    "id": "D7mlHo0Wct8j",
    "outputId": "0b971e94-9701-4d2d-aaad-21d19ccc3b51"
   },
   "outputs": [],
   "source": [
    "# save model and architecture to single file\n",
    "model.save(\"vgg_model.h5\")\n",
    "print(\"Saved model to disk\")"
   ]
  },
  {
   "cell_type": "code",
   "execution_count": null,
   "metadata": {
    "colab": {
     "base_uri": "https://localhost:8080/",
     "height": 577
    },
    "executionInfo": {
     "elapsed": 305552,
     "status": "ok",
     "timestamp": 1601572565805,
     "user": {
      "displayName": "dana makov",
      "photoUrl": "",
      "userId": "00906613210296598824"
     },
     "user_tz": -180
    },
    "id": "bNBF7NUhLKGA",
    "outputId": "f0b97ab9-367d-49d9-c271-1c71f5b47cd4"
   },
   "outputs": [],
   "source": [
    "# Plot loss and accuracy over epoches\n",
    "plot_over_epoches(history)"
   ]
  },
  {
   "cell_type": "markdown",
   "metadata": {},
   "source": [
    "**Prediction examples**"
   ]
  },
  {
   "cell_type": "code",
   "execution_count": null,
   "metadata": {
    "colab": {
     "base_uri": "https://localhost:8080/",
     "height": 187
    },
    "executionInfo": {
     "elapsed": 315649,
     "status": "ok",
     "timestamp": 1601572575916,
     "user": {
      "displayName": "dana makov",
      "photoUrl": "",
      "userId": "00906613210296598824"
     },
     "user_tz": -180
    },
    "id": "wgUvoQh3xQee",
    "outputId": "1a39e81d-50c7-4901-a591-3a52af42b6ef"
   },
   "outputs": [],
   "source": [
    "col_dict = dict(zip(np.arange(10), y.columns))"
   ]
  },
  {
   "cell_type": "code",
   "execution_count": null,
   "metadata": {
    "executionInfo": {
     "elapsed": 315655,
     "status": "ok",
     "timestamp": 1601572575912,
     "user": {
      "displayName": "dana makov",
      "photoUrl": "",
      "userId": "00906613210296598824"
     },
     "user_tz": -180
    },
    "id": "tackK74sxQec"
   },
   "outputs": [],
   "source": [
    "# Predict\n",
    "y_pred = model.predict(X_test)"
   ]
  },
  {
   "cell_type": "code",
   "execution_count": null,
   "metadata": {
    "colab": {
     "base_uri": "https://localhost:8080/",
     "height": 1000,
     "output_embedded_package_id": "1ohjsSdKUXmRL1JIWXq1WuPqZI5b2IufO"
    },
    "executionInfo": {
     "elapsed": 318223,
     "status": "ok",
     "timestamp": 1601572578504,
     "user": {
      "displayName": "dana makov",
      "photoUrl": "",
      "userId": "00906613210296598824"
     },
     "user_tz": -180
    },
    "id": "O3LIq_7IxQek",
    "outputId": "a50c1582-c237-42d6-f872-d7dd2f2502b0",
    "scrolled": false
   },
   "outputs": [],
   "source": [
    "# Show some results\n",
    "for row in range(10):\n",
    "    pic(X_test[row], y_pred[row], col_dict)"
   ]
  }
 ],
 "metadata": {
  "accelerator": "GPU",
  "colab": {
   "collapsed_sections": [],
   "name": "train vgg model.ipynb",
   "provenance": [
    {
     "file_id": "1rVQn7ZRuLMoQZBIvrqtOvfjKkeEzPYjl",
     "timestamp": 1601208280890
    }
   ]
  },
  "kernelspec": {
   "display_name": "Python 3",
   "language": "python",
   "name": "python3"
  },
  "language_info": {
   "codemirror_mode": {
    "name": "ipython",
    "version": 3
   },
   "file_extension": ".py",
   "mimetype": "text/x-python",
   "name": "python",
   "nbconvert_exporter": "python",
   "pygments_lexer": "ipython3",
   "version": "3.7.6"
  },
  "nbTranslate": {
   "displayLangs": [
    "*"
   ],
   "hotkey": "alt-t",
   "langInMainMenu": true,
   "sourceLang": "en",
   "targetLang": "fr",
   "useGoogleTranslate": true
  }
 },
 "nbformat": 4,
 "nbformat_minor": 1
}
