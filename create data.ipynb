{
 "cells": [
  {
   "cell_type": "markdown",
   "metadata": {},
   "source": [
    "**Import Libraries**"
   ]
  },
  {
   "cell_type": "code",
   "execution_count": null,
   "metadata": {
    "colab": {},
    "colab_type": "code",
    "id": "-bOBrZ2gVza0"
   },
   "outputs": [],
   "source": [
    "import numpy as np\n",
    "import pandas as pd\n",
    "import glob\n",
    "import urllib\n",
    "from urllib import request\n",
    "from matplotlib import pyplot as plt\n",
    "import requests\n",
    "import os\n",
    "import cv2\n",
    "from collections import Counter\n",
    "from IPython.display import display, Image, SVG, Math, YouTubeVideo\n",
    "from tqdm.notebook import tqdm\n",
    "%run utils.ipynb"
   ]
  },
  {
   "cell_type": "markdown",
   "metadata": {},
   "source": [
    "**Connect to Drive**"
   ]
  },
  {
   "cell_type": "markdown",
   "metadata": {},
   "source": [
    "Uncomment if using Google Colab"
   ]
  },
  {
   "cell_type": "code",
   "execution_count": null,
   "metadata": {},
   "outputs": [],
   "source": [
    "# from google.colab import drive\n",
    "# from google.colab.patches import cv2_imshow\n",
    "# drive.mount('/content/drive/')\n",
    "# os.chdir(config.PATH)"
   ]
  },
  {
   "cell_type": "markdown",
   "metadata": {},
   "source": [
    "**Loading the Dataset**"
   ]
  },
  {
   "cell_type": "markdown",
   "metadata": {
    "colab_type": "text",
    "id": "WARBoHJ51mhi"
   },
   "source": [
    "Images are not saved yet, just urls"
   ]
  },
  {
   "cell_type": "code",
   "execution_count": null,
   "metadata": {
    "colab": {},
    "colab_type": "code",
    "id": "yBBERpDNVza9"
   },
   "outputs": [],
   "source": [
    "path = './'\n",
    "documents = ['photos', 'keywords']\n",
    "datasets = {}\n",
    "\n",
    "for doc in documents:\n",
    "    files = glob.glob(path + doc + \".tsv*\")\n",
    "\n",
    "    subsets = []\n",
    "    for filename in files:\n",
    "        df = pd.read_csv(filename, sep = '\\t', header = 0)\n",
    "        subsets.append(df)\n",
    "\n",
    "    datasets[doc] = pd.concat(subsets, axis = 0, ignore_index = True)"
   ]
  },
  {
   "cell_type": "code",
   "execution_count": null,
   "metadata": {
    "colab": {},
    "colab_type": "code",
    "id": "08ywB7t2VzbB"
   },
   "outputs": [],
   "source": [
    "photos_df = datasets['photos'].iloc[:, :3]\n",
    "print(photos_df.shape)\n",
    "photos_df.head()"
   ]
  },
  {
   "cell_type": "code",
   "execution_count": null,
   "metadata": {
    "colab": {},
    "colab_type": "code",
    "id": "--IF6iNDVzbG"
   },
   "outputs": [],
   "source": [
    "key_words_df = datasets['keywords'].iloc[:, :3]\n",
    "print(key_words_df.shape)\n",
    "key_words_df"
   ]
  },
  {
   "cell_type": "code",
   "execution_count": null,
   "metadata": {
    "colab": {},
    "colab_type": "code",
    "id": "GTgBRQw4BsF9"
   },
   "outputs": [],
   "source": [
    "confident_keywords = key_words_df[key_words_df.ai_service_1_confidence > 99]\n",
    "print(confident_keywords.shape)\n",
    "print(confident_keywords)"
   ]
  },
  {
   "cell_type": "code",
   "execution_count": null,
   "metadata": {
    "colab": {},
    "colab_type": "code",
    "id": "6VaVruUZCme1"
   },
   "outputs": [],
   "source": [
    "merged_photos_links_and_confident_keywords = confident_keywords.merge(datasets['photos'], \n",
    "                                                                      on = 'photo_id')\n",
    "tagged_links = merged_photos_links_and_confident_keywords[['keyword', 'photo_image_url']]\n",
    "most_tagged_words = Counter(tagged_links['keyword']).most_common(10)\n",
    "key_words = dict(most_tagged_words).keys()\n",
    "key_words = list(key_words)\n",
    "commons_df = tagged_links[tagged_links['keyword'].isin(key_words)]\n",
    "dummies_per_url_df = pd.get_dummies(commons_df, prefix = ['keyword'], \n",
    "                                    columns = ['keyword']).groupby(['photo_image_url']).sum()\n",
    "dummies_per_url_df = dummies_per_url_df.reset_index()\n",
    "dummies_per_url_df.head()"
   ]
  },
  {
   "cell_type": "markdown",
   "metadata": {},
   "source": [
    "**Saving the arrays to files**"
   ]
  },
  {
   "cell_type": "code",
   "execution_count": null,
   "metadata": {
    "colab": {},
    "colab_type": "code",
    "id": "0Weyswp4bsYI"
   },
   "outputs": [],
   "source": [
    "for i in range(13):\n",
    "    test = dummies_per_url_df.iloc[(1000 * i):(1000 * (i + 1))].copy()\n",
    "    tqdm.pandas()\n",
    "    test['numpy_array_images'] = test['photo_image_url'].progress_apply(lambda x: image_url_to_numpy_array_urllib(x))\n",
    "    test = test[test.numpy_array_images != 'Image ratio is too rectangular']\n",
    "    test.iloc[:,1:11].to_pickle(f'./y{i+1}.pkl')\n",
    "    test.iloc[:,-1].to_pickle(f'./X{i+1}.pkl')"
   ]
  }
 ],
 "metadata": {
  "colab": {
   "collapsed_sections": [],
   "name": "Create data.ipynb",
   "private_outputs": true,
   "provenance": [
    {
     "file_id": "1s1vDo2ug2asxFwI3g-aWIFWxf_lS_BeR",
     "timestamp": 1599284592504
    }
   ]
  },
  "kernelspec": {
   "display_name": "Python 3",
   "language": "python",
   "name": "python3"
  },
  "language_info": {
   "codemirror_mode": {
    "name": "ipython",
    "version": 3
   },
   "file_extension": ".py",
   "mimetype": "text/x-python",
   "name": "python",
   "nbconvert_exporter": "python",
   "pygments_lexer": "ipython3",
   "version": "3.7.6"
  },
  "nbTranslate": {
   "displayLangs": [
    "*"
   ],
   "hotkey": "alt-t",
   "langInMainMenu": true,
   "sourceLang": "en",
   "targetLang": "fr",
   "useGoogleTranslate": true
  }
 },
 "nbformat": 4,
 "nbformat_minor": 1
}
