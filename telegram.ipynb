{
 "cells": [
  {
   "cell_type": "markdown",
   "metadata": {},
   "source": [
    "<div class=\"alert alert-info\"><b>Import Libraries<b>"
   ]
  },
  {
   "cell_type": "code",
   "execution_count": 1,
   "metadata": {
    "colab": {
     "base_uri": "https://localhost:8080/",
     "height": 255
    },
    "executionInfo": {
     "elapsed": 6571,
     "status": "ok",
     "timestamp": 1601572821026,
     "user": {
      "displayName": "dana makov",
      "photoUrl": "",
      "userId": "00906613210296598824"
     },
     "user_tz": -180
    },
    "id": "2gVM5TQqhLWA",
    "outputId": "a14f1313-0c1c-4d90-c02f-c7e3584ee152"
   },
   "outputs": [],
   "source": [
    "# !pip install python-telegram-bot"
   ]
  },
  {
   "cell_type": "code",
   "execution_count": 5,
   "metadata": {
    "executionInfo": {
     "elapsed": 8621,
     "status": "ok",
     "timestamp": 1601572823087,
     "user": {
      "displayName": "dana makov",
      "photoUrl": "",
      "userId": "00906613210296598824"
     },
     "user_tz": -180
    },
    "id": "byPG-oHkfxSc"
   },
   "outputs": [
    {
     "ename": "ModuleNotFoundError",
     "evalue": "No module named 'config'",
     "output_type": "error",
     "traceback": [
      "\u001b[1;31m---------------------------------------------------------------------------\u001b[0m",
      "\u001b[1;31mModuleNotFoundError\u001b[0m                       Traceback (most recent call last)",
      "\u001b[1;32m<ipython-input-5-7aeaa7e72781>\u001b[0m in \u001b[0;36m<module>\u001b[1;34m\u001b[0m\n\u001b[0;32m      6\u001b[0m \u001b[1;32mimport\u001b[0m \u001b[0mcv2\u001b[0m\u001b[1;33m\u001b[0m\u001b[1;33m\u001b[0m\u001b[0m\n\u001b[0;32m      7\u001b[0m \u001b[1;32mfrom\u001b[0m \u001b[0mtensorflow\u001b[0m\u001b[1;33m.\u001b[0m\u001b[0mkeras\u001b[0m\u001b[1;33m.\u001b[0m\u001b[0mmodels\u001b[0m \u001b[1;32mimport\u001b[0m \u001b[0mload_model\u001b[0m\u001b[1;33m\u001b[0m\u001b[1;33m\u001b[0m\u001b[0m\n\u001b[1;32m----> 8\u001b[1;33m \u001b[1;32mimport\u001b[0m \u001b[0mconfig\u001b[0m\u001b[1;33m.\u001b[0m\u001b[0mipynb\u001b[0m \u001b[1;32mas\u001b[0m \u001b[0mconfig\u001b[0m\u001b[1;33m\u001b[0m\u001b[1;33m\u001b[0m\u001b[0m\n\u001b[0m\u001b[0;32m      9\u001b[0m \u001b[0mget_ipython\u001b[0m\u001b[1;33m(\u001b[0m\u001b[1;33m)\u001b[0m\u001b[1;33m.\u001b[0m\u001b[0mrun_line_magic\u001b[0m\u001b[1;33m(\u001b[0m\u001b[1;34m'run'\u001b[0m\u001b[1;33m,\u001b[0m \u001b[1;34m'utils.ipynb'\u001b[0m\u001b[1;33m)\u001b[0m\u001b[1;33m\u001b[0m\u001b[1;33m\u001b[0m\u001b[0m\n",
      "\u001b[1;31mModuleNotFoundError\u001b[0m: No module named 'config'"
     ]
    }
   ],
   "source": [
    "from telegram.ext import Updater, CommandHandler, MessageHandler, Filters\n",
    "import numpy as np\n",
    "import urllib\n",
    "from urllib import request\n",
    "import os\n",
    "import cv2\n",
    "from tensorflow.keras.models import load_model\n",
    "import config.ipynb as config\n",
    "%run utils.ipynb"
   ]
  },
  {
   "cell_type": "markdown",
   "metadata": {},
   "source": [
    "<div class=\"alert alert-info\"><b>Connect to Drive<b>"
   ]
  },
  {
   "cell_type": "markdown",
   "metadata": {},
   "source": [
    "Uncomment if using Google Colab"
   ]
  },
  {
   "cell_type": "code",
   "execution_count": null,
   "metadata": {},
   "outputs": [],
   "source": [
    "# from google.colab import drive\n",
    "# drive.mount('/content/drive/')\n",
    "# os.chdir(config.PATH)"
   ]
  },
  {
   "cell_type": "markdown",
   "metadata": {},
   "source": [
    "<div class=\"alert alert-info\"><b>Create Telegram Bot<b>"
   ]
  },
  {
   "cell_type": "code",
   "execution_count": 4,
   "metadata": {
    "executionInfo": {
     "elapsed": 32099,
     "status": "ok",
     "timestamp": 1601572846579,
     "user": {
      "displayName": "dana makov",
      "photoUrl": "",
      "userId": "00906613210296598824"
     },
     "user_tz": -180
    },
    "id": "j7XpZPBNfxSf"
   },
   "outputs": [],
   "source": [
    "token = config.TOKEN"
   ]
  },
  {
   "cell_type": "code",
   "execution_count": 5,
   "metadata": {
    "executionInfo": {
     "elapsed": 32098,
     "status": "ok",
     "timestamp": 1601572846581,
     "user": {
      "displayName": "dana makov",
      "photoUrl": "",
      "userId": "00906613210296598824"
     },
     "user_tz": -180
    },
    "id": "-hER38qLfxSi"
   },
   "outputs": [],
   "source": [
    "updater = Updater(token=token, use_context=True)"
   ]
  },
  {
   "cell_type": "code",
   "execution_count": 6,
   "metadata": {
    "executionInfo": {
     "elapsed": 32096,
     "status": "ok",
     "timestamp": 1601572846584,
     "user": {
      "displayName": "dana makov",
      "photoUrl": "",
      "userId": "00906613210296598824"
     },
     "user_tz": -180
    },
    "id": "RB-zH7clfxSk"
   },
   "outputs": [],
   "source": [
    "dispatcher = updater.dispatcher"
   ]
  },
  {
   "cell_type": "code",
   "execution_count": 7,
   "metadata": {
    "executionInfo": {
     "elapsed": 32094,
     "status": "ok",
     "timestamp": 1601572846586,
     "user": {
      "displayName": "dana makov",
      "photoUrl": "",
      "userId": "00906613210296598824"
     },
     "user_tz": -180
    },
    "id": "Jll7k23HfxSn"
   },
   "outputs": [],
   "source": [
    "def start(update, context):\n",
    "    context.bot.send_message(chat_id=update.effective_chat.id, \n",
    "                             text=\"I'm a bot, please send me your pic!\")"
   ]
  },
  {
   "cell_type": "code",
   "execution_count": 8,
   "metadata": {
    "executionInfo": {
     "elapsed": 32093,
     "status": "ok",
     "timestamp": 1601572846588,
     "user": {
      "displayName": "dana makov",
      "photoUrl": "",
      "userId": "00906613210296598824"
     },
     "user_tz": -180
    },
    "id": "a8Z6XpNifxSq"
   },
   "outputs": [],
   "source": [
    "start_handler = CommandHandler('start', start)\n",
    "dispatcher.add_handler(start_handler)"
   ]
  },
  {
   "cell_type": "code",
   "execution_count": 10,
   "metadata": {
    "executionInfo": {
     "elapsed": 32091,
     "status": "ok",
     "timestamp": 1601572846592,
     "user": {
      "displayName": "dana makov",
      "photoUrl": "",
      "userId": "00906613210296598824"
     },
     "user_tz": -180
    },
    "id": "k9OOnzQCfxSu"
   },
   "outputs": [],
   "source": [
    "def photo(update, context):\n",
    "    vgg_prediction = []\n",
    "    inception_prediction = []\n",
    "    xception_prediction = []\n",
    "    user = update.message.from_user\n",
    "    photo_file = update.message.photo[-1].get_file().file_path\n",
    "    # photo_file.download('user_photo.jpg') \n",
    "    img = image_url_to_numpy_array_urllib(photo_file)\n",
    "    if img == 'rectangular':\n",
    "        message = \"What a great pic, too bad that it is too rectangular for me to process, let's try squarer pic :)\"\n",
    "        context.bot.send_message(chat_id = update.effective_chat.id, text=message)\n",
    "        return 0 \n",
    "    img = img.reshape(1,224,224,3)\n",
    "    vgg_model = load_model('vgg_model.h5')\n",
    "    inception_model = load_model('inception_model.h5')\n",
    "    xception_model = load_model('xception_model.h5')\n",
    "    y_pred_vgg = vgg_model.predict(img)\n",
    "    y_pred_inception = inception_model.predict(img)\n",
    "    y_pred_xception = xception_model.predict(img)\n",
    "    col_dict = {0: '#animal',\n",
    "                1: '#human',\n",
    "                2: '#mountain',\n",
    "                3: '#nature',\n",
    "                4: '#outdoors',\n",
    "                5: '#person',\n",
    "                6: '#plant',\n",
    "                7: '#sea',\n",
    "                8: '#tree',\n",
    "                9: '#water'}\n",
    "    \n",
    "    for i in range(10):\n",
    "        if y_pred_vgg[0][i] > 0.5:\n",
    "            vgg_prediction.append(col_dict[i])\n",
    "        if y_pred_inception[0][i] > 0:\n",
    "            inception_prediction.append(col_dict[i])\n",
    "        if y_pred_xception[0][i] > 0:\n",
    "            xception_prediction.append(col_dict[i])\n",
    "    \n",
    "    if len(y_pred_vgg) > 0:\n",
    "        vgg_message = 'VGG16: ' + ' '.join(vgg_prediction)\n",
    "    else:\n",
    "        vgg_message = \"VGG16 can't recognize the pic, let's try one more...\"\n",
    "\n",
    "    if len(y_pred_inception) > 0:\n",
    "        inception_message = 'INCEPTION: ' + ' '.join(inception_prediction)\n",
    "    else:\n",
    "        inception_message = \"INCEPTION can't recognize the pic, let's try one more...\"\n",
    "\n",
    "    if len(y_pred_xception) > 0:\n",
    "        xception_message = 'XCEPTION: ' + ' '.join(xception_prediction)\n",
    "    else:\n",
    "        xception_message = \"XCEPTION can't recognize the pic, let's try one more...\"\n",
    "\n",
    "    message = vgg_message + '\\n' + inception_message + '\\n' + xception_message\n",
    "\n",
    "    context.bot.send_message(chat_id = update.effective_chat.id, \n",
    "                             text = message)"
   ]
  },
  {
   "cell_type": "code",
   "execution_count": 11,
   "metadata": {
    "executionInfo": {
     "elapsed": 32089,
     "status": "ok",
     "timestamp": 1601572846594,
     "user": {
      "displayName": "dana makov",
      "photoUrl": "",
      "userId": "00906613210296598824"
     },
     "user_tz": -180
    },
    "id": "7JONA1mzfxSw"
   },
   "outputs": [],
   "source": [
    "echo_handler = MessageHandler(Filters.photo & (~Filters.command), photo)\n",
    "dispatcher.add_handler(echo_handler)"
   ]
  },
  {
   "cell_type": "code",
   "execution_count": 12,
   "metadata": {
    "colab": {
     "base_uri": "https://localhost:8080/",
     "height": 34
    },
    "executionInfo": {
     "elapsed": 32403,
     "status": "ok",
     "timestamp": 1601572846916,
     "user": {
      "displayName": "dana makov",
      "photoUrl": "",
      "userId": "00906613210296598824"
     },
     "user_tz": -180
    },
    "id": "E4EQ_8AmfxSy",
    "outputId": "0898204a-9637-440c-bd84-338b439d5982"
   },
   "outputs": [
    {
     "data": {
      "text/plain": [
       "<queue.Queue at 0x7ff78fc39630>"
      ]
     },
     "execution_count": 12,
     "metadata": {
      "tags": []
     },
     "output_type": "execute_result"
    }
   ],
   "source": [
    "updater.start_polling()"
   ]
  },
  {
   "cell_type": "code",
   "execution_count": 13,
   "metadata": {
    "executionInfo": {
     "elapsed": 32399,
     "status": "ok",
     "timestamp": 1601572846917,
     "user": {
      "displayName": "dana makov",
      "photoUrl": "",
      "userId": "00906613210296598824"
     },
     "user_tz": -180
    },
    "id": "FJnXiQijfxS1"
   },
   "outputs": [],
   "source": [
    "# updater.stop()"
   ]
  }
 ],
 "metadata": {
  "colab": {
   "collapsed_sections": [],
   "name": "telegram.ipynb",
   "provenance": [
    {
     "file_id": "1sjNYK_4P_2sCpLW9sBR0RS7HWRADFJls",
     "timestamp": 1601209097688
    }
   ]
  },
  "kernelspec": {
   "display_name": "Python 3",
   "language": "python",
   "name": "python3"
  },
  "language_info": {
   "codemirror_mode": {
    "name": "ipython",
    "version": 3
   },
   "file_extension": ".py",
   "mimetype": "text/x-python",
   "name": "python",
   "nbconvert_exporter": "python",
   "pygments_lexer": "ipython3",
   "version": "3.7.6"
  },
  "nbTranslate": {
   "displayLangs": [
    "*"
   ],
   "hotkey": "alt-t",
   "langInMainMenu": true,
   "sourceLang": "en",
   "targetLang": "fr",
   "useGoogleTranslate": true
  }
 },
 "nbformat": 4,
 "nbformat_minor": 1
}
